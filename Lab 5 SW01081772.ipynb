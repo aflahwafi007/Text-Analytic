{
 "cells": [
  {
   "cell_type": "markdown",
   "id": "104b9ea2-06b9-42d3-bd4e-9ccd6c3c1531",
   "metadata": {},
   "source": [
    "## Bag Of Words\n"
   ]
  },
  {
   "cell_type": "code",
   "execution_count": 1,
   "id": "107647ea-4649-431e-b85b-6ff10cc7ea85",
   "metadata": {},
   "outputs": [
    {
     "name": "stdout",
     "output_type": "stream",
     "text": [
      "Step 1: List of Unique Words: ['it', 'the', 'worst', 'of', 'was', 'age', 'times', 'best', 'foolishness', 'wisdom']\n",
      "\n",
      "Step 2: Word Frequency Table:\n",
      "Word\tFrequency\n",
      "it\t4\n",
      "was\t4\n",
      "the\t4\n",
      "of\t4\n",
      "times\t2\n",
      "age\t2\n",
      "best\t1\n",
      "worst\t1\n",
      "wisdom\t1\n",
      "foolishness\t1\n",
      "\n",
      "Step 3: Document Vectors:\n",
      "Sentence: it was the best of times\n",
      "Vector: [1, 1, 1, 1, 1, 0, 1, 0, 0, 0]\n",
      "\n",
      "Sentence: it was the worst of times\n",
      "Vector: [1, 1, 1, 1, 1, 0, 0, 1, 0, 0]\n",
      "\n",
      "Sentence: it was the age of wisdom\n",
      "Vector: [1, 1, 1, 1, 0, 1, 0, 0, 1, 0]\n",
      "\n",
      "Sentence: it was the age of foolishness\n",
      "Vector: [1, 1, 1, 1, 0, 1, 0, 0, 0, 1]\n",
      "\n"
     ]
    }
   ],
   "source": [
    "from collections import Counter\n",
    "\n",
    "# Given list of sentences\n",
    "sentences = [\n",
    "    \"it was the best of times\",\n",
    "    \"it was the worst of times\",\n",
    "    \"it was the age of wisdom\",\n",
    "    \"it was the age of foolishness\"\n",
    "]\n",
    "\n",
    "# Step 1: List all unique words\n",
    "all_words = ' '.join(sentences).split()\n",
    "unique_words = list(set(all_words))\n",
    "\n",
    "# Step 2: Create word frequency table\n",
    "word_freq = Counter(all_words)\n",
    "sorted_word_freq = dict(sorted(word_freq.items(), key=lambda item: item[1], reverse=True))\n",
    "\n",
    "# Step 3: Create document vectors\n",
    "document_vectors = []\n",
    "for sentence in sentences:\n",
    "    sentence_words = sentence.split()\n",
    "    document_vector = [1 if word in sentence_words else 0 for word in sorted_word_freq.keys()]\n",
    "    document_vectors.append(document_vector)\n",
    "\n",
    "# Print the results\n",
    "print(\"Step 1: List of Unique Words:\", unique_words)\n",
    "print(\"\\nStep 2: Word Frequency Table:\")\n",
    "print(\"Word\\tFrequency\")\n",
    "for word, freq in sorted_word_freq.items():\n",
    "    print(f\"{word}\\t{freq}\")\n",
    "\n",
    "print(\"\\nStep 3: Document Vectors:\")\n",
    "for sentence, vector in zip(sentences, document_vectors):\n",
    "    print(f\"Sentence: {sentence}\\nVector: {vector}\\n\")"
   ]
  },
  {
   "cell_type": "markdown",
   "id": "46bdcedf-6d9e-4082-9a43-06a84dd24794",
   "metadata": {},
   "source": [
    "## TF-IDF"
   ]
  },
  {
   "cell_type": "code",
   "execution_count": 2,
   "id": "7a506611-935f-4cd4-8924-b544bb2dcb4c",
   "metadata": {},
   "outputs": [
    {
     "name": "stdout",
     "output_type": "stream",
     "text": [
      "TF Scores:\n",
      "          A     quick     brown       fox     jumps      over       the  \\\n",
      "0  0.083333  0.083333  0.083333  0.166667  0.083333  0.083333  0.083333   \n",
      "1  0.083333  0.083333  0.083333  0.250000  0.083333  0.083333  0.083333   \n",
      "\n",
      "       lazy       dog      What         a  \n",
      "0  0.083333  0.083333  0.083333  0.083333  \n",
      "1  0.083333  0.000000  0.083333  0.083333  \n",
      "\n",
      "IDF Scores:\n",
      "   quick  fox  brown  the       dog    a    A  jumps  What  over  lazy\n",
      "0    0.0  0.0    0.0  0.0  0.693147  0.0  0.0    0.0   0.0   0.0   0.0\n",
      "\n",
      "TF-IDF Scores:\n",
      "     A  quick  brown  fox  jumps  over  the  lazy       dog  What    a\n",
      "0  0.0    0.0    0.0  0.0    0.0   0.0  0.0   0.0  0.057762   0.0  0.0\n",
      "1  0.0    0.0    0.0  0.0    0.0   0.0  0.0   0.0  0.000000   0.0  0.0\n"
     ]
    }
   ],
   "source": [
    "import pandas as pd\n",
    "import math\n",
    "from collections import Counter\n",
    "\n",
    "def compute_tf(document):\n",
    "    word_count = Counter(document)\n",
    "    tf = {word: count/len(document) for word, count in word_count.items()}\n",
    "    return tf\n",
    "\n",
    "def compute_idf(documents):\n",
    "    N = len(documents)\n",
    "    idf = {}\n",
    "    all_words = set(word for doc in documents for word in doc)\n",
    "    for word in all_words:\n",
    "        count = sum(1 for doc in documents if word in doc)\n",
    "        idf[word] = math.log(N/count)\n",
    "    return idf\n",
    "\n",
    "def compute_tfidf(document, idf):\n",
    "    tfidf = {}\n",
    "    tf = compute_tf(document)\n",
    "    for word, tf_value in tf.items():\n",
    "        tfidf[word] = tf_value * idf[word]\n",
    "    return tfidf\n",
    "\n",
    "# New data\n",
    "data = [\n",
    "    \"A quick brown fox jumps over the lazy dog What a fox\",\n",
    "    \"A quick brown fox jumps over the lazy fox What a fox\"\n",
    "]\n",
    "\n",
    "# Split data into tokens\n",
    "documents = [doc.split() for doc in data]\n",
    "\n",
    "# Compute TF for each document\n",
    "tf_data = [compute_tf(doc) for doc in documents]\n",
    "\n",
    "# Create DataFrame for TF\n",
    "tf_df = pd.DataFrame(tf_data).fillna(0)\n",
    "print(\"TF Scores:\")\n",
    "print(tf_df)\n",
    "\n",
    "# Compute IDF\n",
    "idf = compute_idf(documents)\n",
    "idf_df = pd.DataFrame([idf]).fillna(0)\n",
    "print(\"\\nIDF Scores:\")\n",
    "print(idf_df)\n",
    "\n",
    "# Compute TF-IDF for each document\n",
    "tfidf_data = [compute_tfidf(doc, idf) for doc in documents]\n",
    "\n",
    "# Create DataFrame for TF-IDF\n",
    "tfidf_df = pd.DataFrame(tfidf_data).fillna(0)\n",
    "print(\"\\nTF-IDF Scores:\")\n",
    "print(tfidf_df)"
   ]
  },
  {
   "cell_type": "code",
   "execution_count": null,
   "id": "fa55bc8b-7f78-4701-a55f-1f26fbfe56a3",
   "metadata": {},
   "outputs": [],
   "source": []
  }
 ],
 "metadata": {
  "kernelspec": {
   "display_name": "Python 3 (ipykernel)",
   "language": "python",
   "name": "python3"
  },
  "language_info": {
   "codemirror_mode": {
    "name": "ipython",
    "version": 3
   },
   "file_extension": ".py",
   "mimetype": "text/x-python",
   "name": "python",
   "nbconvert_exporter": "python",
   "pygments_lexer": "ipython3",
   "version": "3.11.5"
  }
 },
 "nbformat": 4,
 "nbformat_minor": 5
}
